{
 "cells": [
  {
   "cell_type": "markdown",
   "id": "962bdceb",
   "metadata": {},
   "source": [
    "# 📘 Exercise 2 – Sepal Width Boxplot (Iris Dataset)\n",
    "\n",
    "**Objective:**  \n",
    "Compare the distribution of **sepal width** among the three Iris species using a boxplot.  \n",
    "Follow the **10 steps** as practiced in class."
   ]
  },
  {
   "cell_type": "markdown",
   "id": "47eef049",
   "metadata": {},
   "source": [
    "## **Step 1: Setup Environment**"
   ]
  },
  {
   "cell_type": "code",
   "execution_count": null,
   "id": "8d4b3dac",
   "metadata": {},
   "outputs": [],
   "source": [
    "!pip install pandas seaborn matplotlib"
   ]
  },
  {
   "cell_type": "markdown",
   "id": "895ed343",
   "metadata": {},
   "source": [
    "## **Step 2: Import Libraries**"
   ]
  },
  {
   "cell_type": "code",
   "execution_count": null,
   "id": "1e173360",
   "metadata": {},
   "outputs": [],
   "source": [
    "import pandas as pd\n",
    "import seaborn as sns\n",
    "import matplotlib.pyplot as plt"
   ]
  },
  {
   "cell_type": "markdown",
   "id": "73dcbd53",
   "metadata": {},
   "source": [
    "## **Step 3: Load Dataset**"
   ]
  },
  {
   "cell_type": "code",
   "execution_count": null,
   "id": "ac11c75a",
   "metadata": {},
   "outputs": [],
   "source": [
    "iris = sns.load_dataset('iris')"
   ]
  },
  {
   "cell_type": "markdown",
   "id": "e582d887",
   "metadata": {},
   "source": [
    "## **Step 4: Explore Dataset**"
   ]
  },
  {
   "cell_type": "code",
   "execution_count": null,
   "id": "a0c69a75",
   "metadata": {},
   "outputs": [],
   "source": [
    "iris.head()"
   ]
  },
  {
   "cell_type": "code",
   "execution_count": null,
   "id": "9ebc54c6",
   "metadata": {},
   "outputs": [],
   "source": [
    "iris.groupby('species')['sepal_width'].describe()"
   ]
  },
  {
   "cell_type": "markdown",
   "id": "ef632651",
   "metadata": {},
   "source": [
    "## **Step 5: Data Cleaning / Preprocessing**"
   ]
  },
  {
   "cell_type": "code",
   "execution_count": null,
   "id": "0886547d",
   "metadata": {},
   "outputs": [],
   "source": [
    "iris['sepal_width'].isnull().sum()"
   ]
  },
  {
   "cell_type": "markdown",
   "id": "58845728",
   "metadata": {},
   "source": [
    "## **Step 6: Visualization – Boxplot**"
   ]
  },
  {
   "cell_type": "code",
   "execution_count": null,
   "id": "8fe9aa9f",
   "metadata": {},
   "outputs": [],
   "source": [
    "plt.figure(figsize=(6,4))\n",
    "sns.boxplot(data=iris, x='species', y='sepal_width', palette='Set2')\n",
    "plt.title('Sepal Width Distribution by Species')\n",
    "plt.show()"
   ]
  },
  {
   "cell_type": "markdown",
   "id": "028c21fb",
   "metadata": {},
   "source": [
    "## **Step 7: Customization – Add Swarmplot**"
   ]
  },
  {
   "cell_type": "code",
   "execution_count": null,
   "id": "fd33f700",
   "metadata": {},
   "outputs": [],
   "source": [
    "plt.figure(figsize=(6,4))\n",
    "sns.boxplot(data=iris, x='species', y='sepal_width', palette='Set2')\n",
    "sns.swarmplot(data=iris, x='species', y='sepal_width', color='black', alpha=0.6)\n",
    "plt.title('Sepal Width Distribution with Data Points')\n",
    "plt.show()"
   ]
  },
  {
   "cell_type": "markdown",
   "id": "e775829b",
   "metadata": {},
   "source": [
    "## **Step 8: Save Visualization**"
   ]
  },
  {
   "cell_type": "code",
   "execution_count": null,
   "id": "7f8c04ad",
   "metadata": {},
   "outputs": [],
   "source": [
    "plt.figure(figsize=(6,4))\n",
    "sns.boxplot(data=iris, x='species', y='sepal_width', palette='Set2')\n",
    "plt.title('Sepal Width by Species')\n",
    "plt.savefig('sepal_width_boxplot.png', dpi=300, bbox_inches='tight')\n",
    "plt.show()"
   ]
  },
  {
   "cell_type": "markdown",
   "id": "20ff0f61",
   "metadata": {},
   "source": [
    "## **Step 9: Analysis**\n",
    "- *Setosa* has the highest median sepal width.  \n",
    "- *Virginica* has the lowest.  \n",
    "- *Versicolor* overlaps with both but trends lower than Setosa.  \n",
    "- Outliers are visible in all groups."
   ]
  },
  {
   "cell_type": "markdown",
   "id": "01ce2dd4",
   "metadata": {},
   "source": [
    "## **Step 10: Next Steps**\n",
    "Try using a **violin plot** instead of a boxplot to compare the same data."
   ]
  },
  {
   "cell_type": "markdown",
   "id": "f38da414",
   "metadata": {},
   "source": [
    "# 📊 Case Study – Penguins Dataset\n",
    "\n",
    "**Objective:**  \n",
    "Determine which morphological features best separate penguin species.  \n",
    "We will use the `penguins` dataset in seaborn and follow the **10-step process**."
   ]
  },
  {
   "cell_type": "markdown",
   "id": "3791facc",
   "metadata": {},
   "source": [
    "## **Step 1: Setup Environment**"
   ]
  },
  {
   "cell_type": "code",
   "execution_count": null,
   "id": "14d708d1",
   "metadata": {},
   "outputs": [],
   "source": [
    "!pip install pandas seaborn matplotlib"
   ]
  },
  {
   "cell_type": "markdown",
   "id": "3fb14edd",
   "metadata": {},
   "source": [
    "## **Step 2: Import Libraries**"
   ]
  },
  {
   "cell_type": "code",
   "execution_count": null,
   "id": "95244430",
   "metadata": {},
   "outputs": [],
   "source": [
    "import pandas as pd\n",
    "import seaborn as sns\n",
    "import matplotlib.pyplot as plt"
   ]
  },
  {
   "cell_type": "markdown",
   "id": "bebebf7c",
   "metadata": {},
   "source": [
    "## **Step 3: Load Dataset**"
   ]
  },
  {
   "cell_type": "code",
   "execution_count": null,
   "id": "61e87cdb",
   "metadata": {},
   "outputs": [],
   "source": [
    "penguins = sns.load_dataset('penguins')\n",
    "penguins.head()"
   ]
  },
  {
   "cell_type": "markdown",
   "id": "7cda31f0",
   "metadata": {},
   "source": [
    "## **Step 4: Explore Dataset**"
   ]
  },
  {
   "cell_type": "code",
   "execution_count": null,
   "id": "86d598a4",
   "metadata": {},
   "outputs": [],
   "source": [
    "penguins.info()"
   ]
  },
  {
   "cell_type": "code",
   "execution_count": null,
   "id": "5dc2ad46",
   "metadata": {},
   "outputs": [],
   "source": [
    "penguins.describe()"
   ]
  },
  {
   "cell_type": "code",
   "execution_count": null,
   "id": "d777546d",
   "metadata": {},
   "outputs": [],
   "source": [
    "penguins['species'].value_counts()"
   ]
  },
  {
   "cell_type": "markdown",
   "id": "6629e5e9",
   "metadata": {},
   "source": [
    "## **Step 5: Data Cleaning / Preprocessing**"
   ]
  },
  {
   "cell_type": "code",
   "execution_count": null,
   "id": "b488409e",
   "metadata": {},
   "outputs": [],
   "source": [
    "penguins.isnull().sum()\n",
    "penguins = penguins.dropna()"
   ]
  },
  {
   "cell_type": "markdown",
   "id": "3b65e0a7",
   "metadata": {},
   "source": [
    "## **Step 6: Visualization – Histograms**"
   ]
  },
  {
   "cell_type": "code",
   "execution_count": null,
   "id": "ad4d2c33",
   "metadata": {},
   "outputs": [],
   "source": [
    "sns.histplot(data=penguins, x='bill_length_mm', hue='species', kde=True, element='step')\n",
    "plt.title('Distribution of Bill Length by Species')\n",
    "plt.show()"
   ]
  },
  {
   "cell_type": "markdown",
   "id": "601e3121",
   "metadata": {},
   "source": [
    "## **Step 7: Visualization – Boxplots & Scatter**"
   ]
  },
  {
   "cell_type": "code",
   "execution_count": null,
   "id": "a6ffb4da",
   "metadata": {},
   "outputs": [],
   "source": [
    "plt.figure(figsize=(6,4))\n",
    "sns.boxplot(data=penguins, x='species', y='flipper_length_mm', palette='Set3')\n",
    "plt.title('Flipper Length by Species')\n",
    "plt.show()\n",
    "\n",
    "sns.scatterplot(data=penguins, x='bill_length_mm', y='bill_depth_mm', hue='species', style='sex')\n",
    "plt.title('Bill Length vs Bill Depth')\n",
    "plt.show()"
   ]
  },
  {
   "cell_type": "markdown",
   "id": "89f8a3c9",
   "metadata": {},
   "source": [
    "## **Step 8: Save Visualization**"
   ]
  },
  {
   "cell_type": "code",
   "execution_count": null,
   "id": "b3c6c38f",
   "metadata": {},
   "outputs": [],
   "source": [
    "plt.figure(figsize=(6,4))\n",
    "sns.boxplot(data=penguins, x='species', y='body_mass_g', palette='pastel')\n",
    "plt.title('Body Mass by Penguin Species')\n",
    "plt.savefig('penguins_boxplot.png', dpi=300, bbox_inches='tight')\n",
    "plt.show()"
   ]
  },
  {
   "cell_type": "markdown",
   "id": "b4935ad8",
   "metadata": {},
   "source": [
    "## **Step 9: Analysis**\n",
    "- **Adelie** penguins tend to have shorter bills and lower body mass.  \n",
    "- **Gentoo** penguins are heavier with longer flippers.  \n",
    "- **Chinstrap** penguins are intermediate but overlap partly with Adelie in bill depth.  \n",
    "This suggests **flipper length and body mass** are the clearest features to separate species."
   ]
  },
  {
   "cell_type": "markdown",
   "id": "48032dcd",
   "metadata": {},
   "source": [
    "## **Step 10: Next Steps**\n",
    "- Try creating a **pairplot** of all numerical features colored by species.  \n",
    "- Add interactivity using **Plotly** for deeper exploration."
   ]
  }
 ],
 "metadata": {},
 "nbformat": 4,
 "nbformat_minor": 5
}
