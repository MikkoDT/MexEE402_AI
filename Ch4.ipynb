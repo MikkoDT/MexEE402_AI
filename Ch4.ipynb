{
  "nbformat": 4,
  "nbformat_minor": 0,
  "metadata": {
    "colab": {
      "provenance": [],
      "authorship_tag": "ABX9TyMQ9QW8BSzwwKlW0Q4MQZfg",
      "include_colab_link": true
    },
    "kernelspec": {
      "name": "python3",
      "display_name": "Python 3"
    },
    "language_info": {
      "name": "python"
    }
  },
  "cells": [
    {
      "cell_type": "markdown",
      "metadata": {
        "id": "view-in-github",
        "colab_type": "text"
      },
      "source": [
        "<a href=\"https://colab.research.google.com/github/MikkoDT/MexEE402_AI/blob/main/Ch4.ipynb\" target=\"_parent\"><img src=\"https://colab.research.google.com/assets/colab-badge.svg\" alt=\"Open In Colab\"/></a>"
      ]
    },
    {
      "cell_type": "markdown",
      "source": [
        "# **Chapter 4: Unleashing the Power of Data Through Transformation and Feature Engineering**\n",
        "\n",
        "**Feature Engineering**\n",
        "\n",
        "* Transform raw data into useful features\n",
        "\n",
        "* Leverages domain knowledge to improve ML models\n",
        "\n",
        "* Helps uncover hidden patterns\n",
        "\n",
        "**Basics**\n",
        "\n",
        "* Binning → group values into ranges\n",
        "\n",
        "* Interaction Features → combine variables\n",
        "\n",
        "* Polynomial Features → higher-order terms\n",
        "\n",
        "Example: Lemonade Stand\n",
        "\n",
        "* Record: temperature + lemonade sales\n",
        "\n",
        "* New feature: Lemonade per Degree = sales ÷ temperature\n",
        "\n",
        "* Provides better insight into sales–temperature relationship"
      ],
      "metadata": {
        "id": "j0YEA0ZkIqP7"
      }
    },
    {
      "cell_type": "code",
      "execution_count": 1,
      "metadata": {
        "id": "wsfqVH45Hl1O"
      },
      "outputs": [],
      "source": [
        "import pandas as pd"
      ]
    },
    {
      "cell_type": "code",
      "source": [
        "# sample data\n",
        "data = {\n",
        "'Temperature': [75, 77, 82, 85, 89, 91, 95],\n",
        "'Lemonade Sold': [30, 35, 50, 55, 60, 65, 80]\n",
        "}\n",
        "\n",
        "df = pd.DataFrame(data)\n",
        "\n",
        "print(df)"
      ],
      "metadata": {
        "colab": {
          "base_uri": "https://localhost:8080/"
        },
        "id": "-bNzDPPPJL_Q",
        "outputId": "ae86ac41-f9f4-4e01-896d-303cd4534f4a"
      },
      "execution_count": 11,
      "outputs": [
        {
          "output_type": "stream",
          "name": "stdout",
          "text": [
            "   Temperature  Lemonade Sold\n",
            "0           75             30\n",
            "1           77             35\n",
            "2           82             50\n",
            "3           85             55\n",
            "4           89             60\n",
            "5           91             65\n",
            "6           95             80\n"
          ]
        }
      ]
    },
    {
      "cell_type": "code",
      "source": [
        "# create new feature\n",
        "df['Lemonade per Degree'] = df['Lemonade Sold'] / df['Temperature']\n",
        "\n",
        "print(df)"
      ],
      "metadata": {
        "colab": {
          "base_uri": "https://localhost:8080/"
        },
        "id": "8i7RrScTJPjC",
        "outputId": "d92ebf27-e1a4-4c89-b7b6-1557f1607b82"
      },
      "execution_count": 12,
      "outputs": [
        {
          "output_type": "stream",
          "name": "stdout",
          "text": [
            "   Temperature  Lemonade Sold  Lemonade per Degree\n",
            "0           75             30             0.400000\n",
            "1           77             35             0.454545\n",
            "2           82             50             0.609756\n",
            "3           85             55             0.647059\n",
            "4           89             60             0.674157\n",
            "5           91             65             0.714286\n",
            "6           95             80             0.842105\n"
          ]
        }
      ]
    },
    {
      "cell_type": "markdown",
      "source": [
        "**Binning**\n",
        "\n",
        "* Convert numerical data → categorical data\n",
        "\n",
        "* Example: temperature → Cool, Warm, Hot, Very Hot\n",
        "\n",
        "* Benefits:\n",
        "\n",
        "  - Handles outliers\n",
        "\n",
        "  - Simplifies models\n",
        "\n",
        "  - Can reveal clearer variable–target relationships"
      ],
      "metadata": {
        "id": "wk68pZoJJY0L"
      }
    },
    {
      "cell_type": "code",
      "source": [
        "# define bins and labels\n",
        "bins = [70, 75, 85, 95, 100]\n",
        "labels = ['cool', 'warm', 'hot', 'very hot']\n",
        "\n",
        "# apply binning\n",
        "df['Temperature Category'] = pd.cut(df['Temperature'], bins=bins, labels=labels)\n",
        "\n",
        "print(df)"
      ],
      "metadata": {
        "colab": {
          "base_uri": "https://localhost:8080/"
        },
        "id": "RMNqolCFJRUS",
        "outputId": "47b7c9f4-a716-45f3-8066-363492f155e2"
      },
      "execution_count": 13,
      "outputs": [
        {
          "output_type": "stream",
          "name": "stdout",
          "text": [
            "   Temperature  Lemonade Sold  Lemonade per Degree Temperature Category\n",
            "0           75             30             0.400000                 cool\n",
            "1           77             35             0.454545                 warm\n",
            "2           82             50             0.609756                 warm\n",
            "3           85             55             0.647059                 warm\n",
            "4           89             60             0.674157                  hot\n",
            "5           91             65             0.714286                  hot\n",
            "6           95             80             0.842105                  hot\n"
          ]
        }
      ]
    },
    {
      "cell_type": "markdown",
      "source": [
        "**Interaction Features**\n",
        "\n",
        "* Combine two or more variables into a new feature\n",
        "\n",
        "* Example (lemonade stand):\n",
        "\n",
        "  - Variables: Temperature + Ice Cubes\n",
        "\n",
        "  - New feature: Ice Cubes per Degree = ice_cubes ÷ temperature\n",
        "\n",
        "* Can capture relationships not visible in individual variables"
      ],
      "metadata": {
        "id": "3JUh3MbeKH70"
      }
    },
    {
      "cell_type": "code",
      "source": [
        "# add Ice Cubes data\n",
        "df['Ice Cubes'] = [100, 110, 120, 130, 140, 150, 200]\n",
        "\n",
        "# create interaction feature\n",
        "df['Ice Cubes per Degree'] = df['Ice Cubes'] / df['Temperature']\n",
        "\n",
        "print(df)"
      ],
      "metadata": {
        "colab": {
          "base_uri": "https://localhost:8080/"
        },
        "id": "YmKIU-BYJlW5",
        "outputId": "3deff663-3473-4691-fedc-505fdb6db18d"
      },
      "execution_count": 14,
      "outputs": [
        {
          "output_type": "stream",
          "name": "stdout",
          "text": [
            "   Temperature  Lemonade Sold  Lemonade per Degree Temperature Category  \\\n",
            "0           75             30             0.400000                 cool   \n",
            "1           77             35             0.454545                 warm   \n",
            "2           82             50             0.609756                 warm   \n",
            "3           85             55             0.647059                 warm   \n",
            "4           89             60             0.674157                  hot   \n",
            "5           91             65             0.714286                  hot   \n",
            "6           95             80             0.842105                  hot   \n",
            "\n",
            "   Ice Cubes  Ice Cubes per Degree  \n",
            "0        100              1.333333  \n",
            "1        110              1.428571  \n",
            "2        120              1.463415  \n",
            "3        130              1.529412  \n",
            "4        140              1.573034  \n",
            "5        150              1.648352  \n",
            "6        200              2.105263  \n"
          ]
        }
      ]
    },
    {
      "cell_type": "markdown",
      "source": [
        "**Polynomial Features**\n",
        "\n",
        "* Add non-linear complexity to models\n",
        "\n",
        "* Use powers of features or interaction terms\n",
        "\n",
        "* Example (lemonade stand):\n",
        "\n",
        "  - Suspect non-linear relation → create Temperature²\n",
        "\n",
        "  - Helps capture curved patterns in sales vs. temperature"
      ],
      "metadata": {
        "id": "YchTHPukKtsD"
      }
    },
    {
      "cell_type": "code",
      "source": [
        "# create polynomial feature\n",
        "\n",
        "df['Temperature Squared'] = df['Temperature'] ** 2\n",
        "\n",
        "print(df)"
      ],
      "metadata": {
        "colab": {
          "base_uri": "https://localhost:8080/"
        },
        "id": "sTNgFkdjKULl",
        "outputId": "6a5b9e7a-d420-44ce-f976-b82098cbe440"
      },
      "execution_count": 15,
      "outputs": [
        {
          "output_type": "stream",
          "name": "stdout",
          "text": [
            "   Temperature  Lemonade Sold  Lemonade per Degree Temperature Category  \\\n",
            "0           75             30             0.400000                 cool   \n",
            "1           77             35             0.454545                 warm   \n",
            "2           82             50             0.609756                 warm   \n",
            "3           85             55             0.647059                 warm   \n",
            "4           89             60             0.674157                  hot   \n",
            "5           91             65             0.714286                  hot   \n",
            "6           95             80             0.842105                  hot   \n",
            "\n",
            "   Ice Cubes  Ice Cubes per Degree  Temperature Squared  \n",
            "0        100              1.333333                 5625  \n",
            "1        110              1.428571                 5929  \n",
            "2        120              1.463415                 6724  \n",
            "3        130              1.529412                 7225  \n",
            "4        140              1.573034                 7921  \n",
            "5        150              1.648352                 8281  \n",
            "6        200              2.105263                 9025  \n"
          ]
        }
      ]
    },
    {
      "cell_type": "markdown",
      "source": [
        "## **Categorical Variable Encoding**\n",
        "\n",
        "* ML models need numerical input\n",
        "\n",
        "* Convert categorical values → numbers (encoding)\n",
        "\n",
        "* Example: lemonade stand weather data (Sunny, Cloudy, Rainy)\n",
        "\n"
      ],
      "metadata": {
        "id": "vgMFPKyGLNAE"
      }
    },
    {
      "cell_type": "markdown",
      "source": [
        "**Methods**\n",
        "\n",
        "* One-hot Encoding\n",
        "\n",
        "  - Creates new column for each category\n",
        "\n",
        "  - Assigns 1 = True, 0 = False\n",
        "\n",
        "  - Example: Sunny → [1,0,0], Cloudy → [0,1,0], Rainy → [0,0,1]\n",
        "\n",
        "* Ordinal Encoding (for ordered categories, e.g., Low/Medium/High)"
      ],
      "metadata": {
        "id": "uiZYnnQXLV8a"
      }
    },
    {
      "cell_type": "code",
      "source": [
        "# Python Implementation:\n",
        "\n",
        "# example data\n",
        "data_2 = {'Weather': ['Sunny', 'Cloudy', 'Rainy', 'Sunny', 'Cloudy']}\n",
        "df_2 = pd.DataFrame(data_2)\n",
        "\n",
        "# apply one-hot encoding\n",
        "df_encoded = pd.get_dummies(df_2, columns=['Weather'])\n",
        "\n",
        "print(df_encoded)"
      ],
      "metadata": {
        "colab": {
          "base_uri": "https://localhost:8080/"
        },
        "id": "HR-iIRDuK-1E",
        "outputId": "7ce81005-405c-4989-f628-be1e7057b77e"
      },
      "execution_count": 17,
      "outputs": [
        {
          "output_type": "stream",
          "name": "stdout",
          "text": [
            "   Weather_Cloudy  Weather_Rainy  Weather_Sunny\n",
            "0           False          False           True\n",
            "1            True          False          False\n",
            "2           False           True          False\n",
            "3           False          False           True\n",
            "4            True          False          False\n"
          ]
        }
      ]
    },
    {
      "cell_type": "markdown",
      "source": [
        "## **Ordinal Encoding**\n",
        "\n",
        "* Used when categories have a natural order\n",
        "\n",
        "* Example (lemonade stand – ice amount):\n",
        "\n",
        "  - Little → 1\n",
        "\n",
        "  - Medium → 2\n",
        "\n",
        "  - Lots → 3\n",
        "\n",
        "* Preserves ranking/priority in categorical data"
      ],
      "metadata": {
        "id": "n3Qj43XrMK8L"
      }
    },
    {
      "cell_type": "code",
      "source": [
        "# Python Implementation:\n",
        "from sklearn.preprocessing import OrdinalEncoder\n",
        "\n",
        "# example data\n",
        "data_3 = {'Ice': ['Little', 'Medium', 'Lots', 'Little', 'Lots']}\n",
        "df_3 = pd.DataFrame(data_3)\n",
        "\n",
        "# create encoder\n",
        "ord_enc = OrdinalEncoder(categories=[['Little', 'Medium', 'Lots']])\n",
        "\n",
        "# apply ordinal encoding\n",
        "df_3['Ice_encoded'] = ord_enc.fit_transform(df_3[['Ice']])\n",
        "\n",
        "print(df_3)"
      ],
      "metadata": {
        "colab": {
          "base_uri": "https://localhost:8080/"
        },
        "id": "MFb7RJU9L1gk",
        "outputId": "c3c6e0d8-f7fc-44cc-9346-d1e15b53ad09"
      },
      "execution_count": 20,
      "outputs": [
        {
          "output_type": "stream",
          "name": "stdout",
          "text": [
            "      Ice  Ice_encoded\n",
            "0  Little          0.0\n",
            "1  Medium          1.0\n",
            "2    Lots          2.0\n",
            "3  Little          0.0\n",
            "4    Lots          2.0\n"
          ]
        }
      ]
    },
    {
      "cell_type": "code",
      "source": [],
      "metadata": {
        "id": "H0G1Zs9ZMtzH"
      },
      "execution_count": null,
      "outputs": []
    }
  ]
}