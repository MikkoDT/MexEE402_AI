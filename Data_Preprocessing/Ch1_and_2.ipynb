{
 "cells": [
  {
   "cell_type": "markdown",
   "id": "a7efec4a",
   "metadata": {},
   "source": [
    "## **Chapter 1: Introduction to Data Pre-processing**"
   ]
  },
  {
   "cell_type": "markdown",
   "id": "2f6eaa05",
   "metadata": {},
   "source": [
    "**Data Preprocessing**\n",
    "\n",
    "- Acts like a backstage crew ensuring smooth data analysis or ML projects.\n",
    "\n",
    "- Comparable to cleaning and organizing a messy kitchen before cooking.\n",
    "\n",
    "- Raw data is often messy, incomplete, inconsistent, or irrelevant.\n",
    "\n",
    "\n",
    "**Common Issues**\n",
    "\n",
    "- Missing Data → some values not recorded\n",
    "\n",
    "- Inconsistent Data → different units/formats\n",
    "\n",
    "- Irrelevant Data → unnecessary features\n",
    "\n",
    "\n",
    "**Preprocessing Techniques**\n",
    "\n",
    "- Handling Missing Data → e.g., imputation (fill with average)\n",
    "\n",
    "- Data Transformation → convert units (e.g., mph → kph)\n",
    "\n",
    "- Feature Selection → remove irrelevant data\n",
    "\n",
    "\n",
    "**Why It’s Essential**\n",
    "\n",
    "1. Improves data quality → fixes inconsistencies, fills gaps\n",
    "\n",
    "2. Enhances model performance → clean data = better accuracy\n",
    "\n",
    "3. Simplifies analysis → easier to find patterns & trends\n",
    "\n",
    "4. Saves resources → prevents issues later, reduces cost & time"
   ]
  }
 ],
 "metadata": {
  "language_info": {
   "name": "python"
  }
 },
 "nbformat": 4,
 "nbformat_minor": 5
}
