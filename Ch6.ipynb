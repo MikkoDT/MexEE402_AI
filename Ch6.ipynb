{
  "nbformat": 4,
  "nbformat_minor": 0,
  "metadata": {
    "colab": {
      "provenance": [],
      "authorship_tag": "ABX9TyPqp8LMZCDM0lZA+D2rg/Bn",
      "include_colab_link": true
    },
    "kernelspec": {
      "name": "python3",
      "display_name": "Python 3"
    },
    "language_info": {
      "name": "python"
    }
  },
  "cells": [
    {
      "cell_type": "markdown",
      "metadata": {
        "id": "view-in-github",
        "colab_type": "text"
      },
      "source": [
        "<a href=\"https://colab.research.google.com/github/MikkoDT/MexEE402_AI/blob/main/Ch6.ipynb\" target=\"_parent\"><img src=\"https://colab.research.google.com/assets/colab-badge.svg\" alt=\"Open In Colab\"/></a>"
      ]
    },
    {
      "cell_type": "markdown",
      "source": [
        "# **Chapter 6: Dealing with Outliers**\n",
        "\n",
        "**Outliers** = data points that deviate significantly from the majority.  \n",
        "  - Example: Most students study 10–20 hrs/week, but one studies 100 hrs → outlier.  \n",
        "  - Like a violinist playing off-key in an orchestra → noticeable and disruptive.  \n",
        "- Outliers can **skew results** and lead to **misinterpretations**.  \n",
        "- Two common detection methods:  \n",
        "  - **Z-score method**  \n",
        "    - Formula: `Z = (X – μ) / σ`  \n",
        "    - Z-score measures how many standard deviations a point is from the mean.  \n",
        "    - Values outside **[-3, 3]** are usually considered outliers.  \n",
        "  - **Interquartile Range (IQR) method** (to be discussed).  \n",
        "- Handling outliers is critical for **reliable analysis and modeling**."
      ],
      "metadata": {
        "id": "xw-ulSLhnqbd"
      }
    },
    {
      "cell_type": "code",
      "execution_count": 1,
      "metadata": {
        "id": "0SvtUvCfnmx9"
      },
      "outputs": [],
      "source": [
        "# We'll use the SciPy library to calculate the Z-score for an array of numbers:\n",
        "\n",
        "import numpy as np\n",
        "from scipy import stats"
      ]
    },
    {
      "cell_type": "code",
      "source": [
        "# example data\n",
        "data = np.array([10, 12, 12, 15, 20, 21, 22, 100])\n",
        "print(data)"
      ],
      "metadata": {
        "colab": {
          "base_uri": "https://localhost:8080/"
        },
        "id": "b1IocGHVoO0f",
        "outputId": "efc95b28-0c60-43a2-943f-eb67a185dd5f"
      },
      "execution_count": 3,
      "outputs": [
        {
          "output_type": "stream",
          "name": "stdout",
          "text": [
            "[ 10  12  12  15  20  21  22 100]\n"
          ]
        }
      ]
    },
    {
      "cell_type": "code",
      "source": [
        "# calculate z-scores\n",
        "z_scores = stats.zscore(data)\n",
        "print(\"z_scores = \",z_scores)"
      ],
      "metadata": {
        "colab": {
          "base_uri": "https://localhost:8080/"
        },
        "id": "0ZuZSWWAoTeO",
        "outputId": "612f5358-9af4-4e98-eede-0c8705491c68"
      },
      "execution_count": 6,
      "outputs": [
        {
          "output_type": "stream",
          "name": "stdout",
          "text": [
            "z_scores =  [-0.58704366 -0.51588685 -0.51588685 -0.40915164 -0.23125962 -0.19568122\n",
            " -0.16010282  2.61501265]\n"
          ]
        }
      ]
    },
    {
      "cell_type": "code",
      "source": [
        "# find outliers\n",
        "outliers = data[np.abs(z_scores) > 3]\n",
        "print(\"Outliers: \", outliers)"
      ],
      "metadata": {
        "colab": {
          "base_uri": "https://localhost:8080/"
        },
        "id": "bKcQ-GFiobDm",
        "outputId": "51ebb400-7a6b-4f48-dba9-90e973f07059"
      },
      "execution_count": 7,
      "outputs": [
        {
          "output_type": "stream",
          "name": "stdout",
          "text": [
            "Outliers:  []\n"
          ]
        }
      ]
    },
    {
      "cell_type": "markdown",
      "source": [
        "# In this example, the number 100 is a clear outlier, being significantly higher than the other numbers."
      ],
      "metadata": {
        "id": "RAh5sv40oqDM"
      }
    },
    {
      "cell_type": "markdown",
      "source": [
        "**IQR Method** = identifies outliers based on statistical dispersion.  \n",
        "- Focuses on the **middle 50% of data** (between Q1 and Q3).  \n",
        "- Steps:  \n",
        "  1. **Order data** from smallest to largest.  \n",
        "  2. **Find Q1 & Q3** → Q1 = median of lower half, Q3 = median of upper half.  \n",
        "  3. **Calculate IQR** = Q3 – Q1.  \n",
        "  4. **Bounds**:  \n",
        "     - Lower = Q1 – 1.5 × IQR  \n",
        "     - Upper = Q3 + 1.5 × IQR  \n",
        "  5. **Outliers** = values < Lower or > Upper."
      ],
      "metadata": {
        "id": "uaupq_BxozTj"
      }
    },
    {
      "cell_type": "code",
      "source": [
        "import pandas as pd"
      ],
      "metadata": {
        "id": "06k15VEZolSl"
      },
      "execution_count": 8,
      "outputs": []
    },
    {
      "cell_type": "code",
      "source": [
        "# example data\n",
        "data = pd.Series([10, 12, 12, 15, 20, 21, 22, 100])\n",
        "data.head()"
      ],
      "metadata": {
        "colab": {
          "base_uri": "https://localhost:8080/",
          "height": 241
        },
        "id": "4fEKFFJ1o9Kj",
        "outputId": "7b77c35e-81b4-4538-99a0-ae1c258cca7a"
      },
      "execution_count": 9,
      "outputs": [
        {
          "output_type": "execute_result",
          "data": {
            "text/plain": [
              "0    10\n",
              "1    12\n",
              "2    12\n",
              "3    15\n",
              "4    20\n",
              "dtype: int64"
            ],
            "text/html": [
              "<div>\n",
              "<style scoped>\n",
              "    .dataframe tbody tr th:only-of-type {\n",
              "        vertical-align: middle;\n",
              "    }\n",
              "\n",
              "    .dataframe tbody tr th {\n",
              "        vertical-align: top;\n",
              "    }\n",
              "\n",
              "    .dataframe thead th {\n",
              "        text-align: right;\n",
              "    }\n",
              "</style>\n",
              "<table border=\"1\" class=\"dataframe\">\n",
              "  <thead>\n",
              "    <tr style=\"text-align: right;\">\n",
              "      <th></th>\n",
              "      <th>0</th>\n",
              "    </tr>\n",
              "  </thead>\n",
              "  <tbody>\n",
              "    <tr>\n",
              "      <th>0</th>\n",
              "      <td>10</td>\n",
              "    </tr>\n",
              "    <tr>\n",
              "      <th>1</th>\n",
              "      <td>12</td>\n",
              "    </tr>\n",
              "    <tr>\n",
              "      <th>2</th>\n",
              "      <td>12</td>\n",
              "    </tr>\n",
              "    <tr>\n",
              "      <th>3</th>\n",
              "      <td>15</td>\n",
              "    </tr>\n",
              "    <tr>\n",
              "      <th>4</th>\n",
              "      <td>20</td>\n",
              "    </tr>\n",
              "  </tbody>\n",
              "</table>\n",
              "</div><br><label><b>dtype:</b> int64</label>"
            ]
          },
          "metadata": {},
          "execution_count": 9
        }
      ]
    },
    {
      "cell_type": "code",
      "source": [
        "# calculate IQR\n",
        "Q1 = data.quantile(0.25)\n",
        "Q3 = data.quantile(0.75)\n",
        "IQR = Q3 - Q1\n",
        "print(\"IQR = \",IQR)"
      ],
      "metadata": {
        "colab": {
          "base_uri": "https://localhost:8080/"
        },
        "id": "B-oIeKCupA8F",
        "outputId": "139118f0-efcf-4d5f-b259-a805a50329d1"
      },
      "execution_count": 11,
      "outputs": [
        {
          "output_type": "stream",
          "name": "stdout",
          "text": [
            "IQR =  9.25\n"
          ]
        }
      ]
    },
    {
      "cell_type": "code",
      "source": [
        "# find outliers\n",
        "outliers = data[(data < (Q1 - 1.5 * IQR)) | (data > (Q3 + 1.5 * IQR))]\n",
        "print(\"Outliers: \", outliers)"
      ],
      "metadata": {
        "colab": {
          "base_uri": "https://localhost:8080/"
        },
        "id": "qiJyocjtpDlQ",
        "outputId": "2f32680f-097e-4c74-82ee-97a768312aa5"
      },
      "execution_count": 12,
      "outputs": [
        {
          "output_type": "stream",
          "name": "stdout",
          "text": [
            "Outliers:  7    100\n",
            "dtype: int64\n"
          ]
        }
      ]
    },
    {
      "cell_type": "markdown",
      "source": [
        "# In this scenario, again, the number 100 is identified as an outlier."
      ],
      "metadata": {
        "id": "cnjVECiipUMr"
      }
    },
    {
      "cell_type": "markdown",
      "source": [
        "## **Strategies for Handling Outliers**\n",
        "\n",
        "- **Capping & Flooring**  \n",
        "  - Set boundaries for data.  \n",
        "  - Outliers beyond limits are replaced with nearest boundary.  \n",
        "  - Useful when values logically cannot exceed certain limits (e.g., age, temperature).  \n",
        "\n",
        "- **Log Transformation**  \n",
        "  - Compresses skewed data and reduces outlier impact.  \n",
        "  - Creates a more normally distributed dataset.  \n",
        "  - Best for exponential relationships between variables.  \n",
        "\n",
        "- **Removing Outliers**  \n",
        "  - Delete extreme values entirely.  \n",
        "  - Use only if outlier is an error or irrelevant.  \n",
        "  - Risk: information loss or bias.  "
      ],
      "metadata": {
        "id": "yLWbtM0jpYUt"
      }
    },
    {
      "cell_type": "code",
      "source": [],
      "metadata": {
        "id": "nfMRMdaVpKGR"
      },
      "execution_count": null,
      "outputs": []
    }
  ]
}