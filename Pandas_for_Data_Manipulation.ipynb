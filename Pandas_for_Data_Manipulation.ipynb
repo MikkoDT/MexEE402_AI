{
  "nbformat": 4,
  "nbformat_minor": 0,
  "metadata": {
    "colab": {
      "provenance": [],
      "authorship_tag": "ABX9TyPKFmWcoXmCu1Pq4/9G/2a5",
      "include_colab_link": true
    },
    "kernelspec": {
      "name": "python3",
      "display_name": "Python 3"
    },
    "language_info": {
      "name": "python"
    }
  },
  "cells": [
    {
      "cell_type": "markdown",
      "metadata": {
        "id": "view-in-github",
        "colab_type": "text"
      },
      "source": [
        "<a href=\"https://colab.research.google.com/github/MikkoDT/MexEE402_AI/blob/main/Pandas_for_Data_Manipulation.ipynb\" target=\"_parent\"><img src=\"https://colab.research.google.com/assets/colab-badge.svg\" alt=\"Open In Colab\"/></a>"
      ]
    },
    {
      "cell_type": "code",
      "execution_count": 1,
      "metadata": {
        "id": "XwDG_J-wkMlm"
      },
      "outputs": [],
      "source": [
        "# Import the pandas library\n",
        "import pandas as pd"
      ]
    },
    {
      "cell_type": "code",
      "source": [
        "# Define the URL where the dataset is located\n",
        "url = \"https://raw.githubusercontent.com/justmarkham/DAT8/master/data/drinks.csv\""
      ],
      "metadata": {
        "id": "9uJMyPepm3xa"
      },
      "execution_count": 2,
      "outputs": []
    },
    {
      "cell_type": "code",
      "source": [
        "# Use pandas to load the dataset from the URL into a DataFrame\n",
        "df = pd.read_csv(url)"
      ],
      "metadata": {
        "id": "ktAvICEim-Tl"
      },
      "execution_count": 3,
      "outputs": []
    },
    {
      "cell_type": "code",
      "source": [
        "# Print the names of the columns in the DataFrame\n",
        "print(\"Columns in the DataFrame:\", df.columns)"
      ],
      "metadata": {
        "id": "9pL2pPbOnAAE",
        "outputId": "71319456-cb54-40e4-cfbe-d1d23239c13d",
        "colab": {
          "base_uri": "https://localhost:8080/"
        }
      },
      "execution_count": 4,
      "outputs": [
        {
          "output_type": "stream",
          "name": "stdout",
          "text": [
            "Columns in the DataFrame: Index(['country', 'beer_servings', 'spirit_servings', 'wine_servings',\n",
            "       'total_litres_of_pure_alcohol', 'continent'],\n",
            "      dtype='object')\n"
          ]
        }
      ]
    },
    {
      "cell_type": "code",
      "source": [
        "# If there's a column named 'Age', you can filter the DataFrame to include only rows where the 'Age' column is greater than 30.\n",
        "# Replace 'Age' with the name of a column that exists in your DataFrame.\n",
        "# For example, if you're using the Red Wine Quality dataset, you could filter wines with a quality score above 6 like this:\n",
        "# filtered_df = df[df['quality'] > 6]"
      ],
      "metadata": {
        "id": "Eo8gEyCJnDCY"
      },
      "execution_count": 5,
      "outputs": []
    },
    {
      "cell_type": "code",
      "source": [
        "# Perform basic data analysis: the describe() function provides descriptive statistics of the DataFrame.\n",
        "print(\"\\nDescriptive statistics of the DataFrame:\\n\", df.describe())"
      ],
      "metadata": {
        "id": "tcjOleFOnFUT",
        "outputId": "41c4dc79-ab37-47d2-daf5-207e12667dd9",
        "colab": {
          "base_uri": "https://localhost:8080/"
        }
      },
      "execution_count": 6,
      "outputs": [
        {
          "output_type": "stream",
          "name": "stdout",
          "text": [
            "\n",
            "Descriptive statistics of the DataFrame:\n",
            "        beer_servings  spirit_servings  wine_servings  \\\n",
            "count     193.000000       193.000000     193.000000   \n",
            "mean      106.160622        80.994819      49.450777   \n",
            "std       101.143103        88.284312      79.697598   \n",
            "min         0.000000         0.000000       0.000000   \n",
            "25%        20.000000         4.000000       1.000000   \n",
            "50%        76.000000        56.000000       8.000000   \n",
            "75%       188.000000       128.000000      59.000000   \n",
            "max       376.000000       438.000000     370.000000   \n",
            "\n",
            "       total_litres_of_pure_alcohol  \n",
            "count                    193.000000  \n",
            "mean                       4.717098  \n",
            "std                        3.773298  \n",
            "min                        0.000000  \n",
            "25%                        1.300000  \n",
            "50%                        4.200000  \n",
            "75%                        7.200000  \n",
            "max                       14.400000  \n"
          ]
        }
      ]
    },
    {
      "cell_type": "code",
      "source": [],
      "metadata": {
        "id": "3T6a8jnFnIKD"
      },
      "execution_count": null,
      "outputs": []
    }
  ]
}